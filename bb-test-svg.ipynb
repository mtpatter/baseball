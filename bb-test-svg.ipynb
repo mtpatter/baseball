{
 "cells": [
  {
   "cell_type": "code",
   "execution_count": 1,
   "metadata": {},
   "outputs": [],
   "source": [
    "import baseball\n",
    "game_id, game = baseball.get_game_from_url('2016-11-2', 'CHC', 'CLE', 1)\n",
    "game_dict = game._asdict()\n",
    "game_json_str = game.json()"
   ]
  },
  {
   "cell_type": "code",
   "execution_count": 2,
   "metadata": {},
   "outputs": [],
   "source": [
    "from baseball.generate_svg import *"
   ]
  },
  {
   "cell_type": "code",
   "execution_count": 3,
   "metadata": {},
   "outputs": [],
   "source": [
    "big_svg_text = '{}{}{}{}{}{}{}{}{}{}{}{}{}{}{}'.format(\n",
    "        get_big_svg_header(game),  # header of BATTER 1-10\n",
    "        get_batter_list_and_stats(game),  # left batter list and right stats\n",
    "        assemble_stats_svg(game),  # inning stats\n",
    "        assemble_box_content_dict(game),  # the boxes!!!!\n",
    "        get_team_stats_svg(game),  # bottom right box\n",
    "        add_away_batter_sub_division_lines(game),  # blue lines for coming off the bench\n",
    "        add_home_batter_sub_division_lines(game),\n",
    "        add_away_pitcher_sub_division_lines(game),  # dashes for pitching change\n",
    "        add_home_pitcher_sub_division_lines(game),\n",
    "        add_all_pitcher_box_scores(game),   # bottom pitcher box list\n",
    "        assemble_game_title_svg(game),  # side team name / info\n",
    "        get_logo(game),  # team logo\n",
    "        get_box_score_totals(game),  # final stats\n",
    "        get_big_rectangles(game),  # large outer box\n",
    "       # get_footer_box(game),  # brand\n",
    "        SVG_FOOTER\n",
    "    )"
   ]
  },
  {
   "cell_type": "code",
   "execution_count": 4,
   "metadata": {},
   "outputs": [],
   "source": [
    "with open('new.svg', 'w') as fh:\n",
    "    fh.write(big_svg_text)"
   ]
  },
  {
   "cell_type": "code",
   "execution_count": null,
   "metadata": {},
   "outputs": [],
   "source": []
  }
 ],
 "metadata": {
  "kernelspec": {
   "display_name": "Python 3",
   "language": "python",
   "name": "python3"
  },
  "language_info": {
   "codemirror_mode": {
    "name": "ipython",
    "version": 3
   },
   "file_extension": ".py",
   "mimetype": "text/x-python",
   "name": "python",
   "nbconvert_exporter": "python",
   "pygments_lexer": "ipython3",
   "version": "3.7.3"
  }
 },
 "nbformat": 4,
 "nbformat_minor": 2
}
